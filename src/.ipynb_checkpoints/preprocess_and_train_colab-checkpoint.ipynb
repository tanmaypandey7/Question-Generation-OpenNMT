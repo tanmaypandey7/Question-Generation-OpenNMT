{
 "cells": [
  {
   "cell_type": "code",
   "execution_count": 1,
   "metadata": {
    "colab": {
     "base_uri": "https://localhost:8080/",
     "height": 122
    },
    "colab_type": "code",
    "id": "Idr2SaC8Gorb",
    "outputId": "5ba161e0-0b62-42a0-9624-a39cc738cad9"
   },
   "outputs": [
    {
     "name": "stdout",
     "output_type": "stream",
     "text": [
      "Go to this URL in a browser: https://accounts.google.com/o/oauth2/auth?client_id=947318989803-6bn6qk8qdgf4n4g3pfee6491hc0brc4i.apps.googleusercontent.com&redirect_uri=urn%3Aietf%3Awg%3Aoauth%3A2.0%3Aoob&scope=email%20https%3A%2F%2Fwww.googleapis.com%2Fauth%2Fdocs.test%20https%3A%2F%2Fwww.googleapis.com%2Fauth%2Fdrive%20https%3A%2F%2Fwww.googleapis.com%2Fauth%2Fdrive.photos.readonly%20https%3A%2F%2Fwww.googleapis.com%2Fauth%2Fpeopleapi.readonly&response_type=code\n",
      "\n",
      "Enter your authorization code:\n",
      "··········\n",
      "Mounted at /content/drive\n"
     ]
    }
   ],
   "source": [
    "from google.colab import drive\n",
    "drive.mount('/content/drive')"
   ]
  },
  {
   "cell_type": "code",
   "execution_count": 0,
   "metadata": {
    "colab": {},
    "colab_type": "code",
    "id": "rN0l1YvfG3bm"
   },
   "outputs": [],
   "source": [
    "!cp \"/content/drive/My Drive/learnogether/squad-question-generation/qna_train.csv\" \"/content/\""
   ]
  },
  {
   "cell_type": "code",
   "execution_count": 0,
   "metadata": {
    "colab": {},
    "colab_type": "code",
    "id": "8jMbilp70vea"
   },
   "outputs": [],
   "source": [
    "import pandas as pd"
   ]
  },
  {
   "cell_type": "markdown",
   "metadata": {
    "colab_type": "text",
    "id": "uARvaEvnrSDt"
   },
   "source": []
  },
  {
   "cell_type": "code",
   "execution_count": 0,
   "metadata": {
    "colab": {},
    "colab_type": "code",
    "id": "E16zgGRb0veq"
   },
   "outputs": [],
   "source": [
    "df = pd.read_csv(\"/content/qna_train.csv\")"
   ]
  },
  {
   "cell_type": "code",
   "execution_count": 5,
   "metadata": {
    "colab": {
     "base_uri": "https://localhost:8080/",
     "height": 289
    },
    "colab_type": "code",
    "id": "iYRJqecg0ve1",
    "outputId": "4e259773-e4e1-409c-b95e-1ce03bb2578d"
   },
   "outputs": [
    {
     "data": {
      "text/html": [
       "<div>\n",
       "<style scoped>\n",
       "    .dataframe tbody tr th:only-of-type {\n",
       "        vertical-align: middle;\n",
       "    }\n",
       "\n",
       "    .dataframe tbody tr th {\n",
       "        vertical-align: top;\n",
       "    }\n",
       "\n",
       "    .dataframe thead th {\n",
       "        text-align: right;\n",
       "    }\n",
       "</style>\n",
       "<table border=\"1\" class=\"dataframe\">\n",
       "  <thead>\n",
       "    <tr style=\"text-align: right;\">\n",
       "      <th></th>\n",
       "      <th>index</th>\n",
       "      <th>question</th>\n",
       "      <th>context</th>\n",
       "      <th>answer_start</th>\n",
       "      <th>text</th>\n",
       "      <th>c_id</th>\n",
       "      <th>answer_sent</th>\n",
       "    </tr>\n",
       "  </thead>\n",
       "  <tbody>\n",
       "    <tr>\n",
       "      <th>0</th>\n",
       "      <td>5733be284776f41900661182</td>\n",
       "      <td>To whom did the Virgin Mary allegedly appear i...</td>\n",
       "      <td>Architecturally, the school has a Catholic cha...</td>\n",
       "      <td>515</td>\n",
       "      <td>Saint Bernadette Soubirous</td>\n",
       "      <td>0</td>\n",
       "      <td>It is a replica of the grotto at Lourdes, Fran...</td>\n",
       "    </tr>\n",
       "    <tr>\n",
       "      <th>1</th>\n",
       "      <td>5733be284776f4190066117f</td>\n",
       "      <td>What is in front of the Notre Dame Main Building?</td>\n",
       "      <td>Architecturally, the school has a Catholic cha...</td>\n",
       "      <td>188</td>\n",
       "      <td>a copper statue of Christ</td>\n",
       "      <td>0</td>\n",
       "      <td>Immediately in front of the Main Building and ...</td>\n",
       "    </tr>\n",
       "    <tr>\n",
       "      <th>2</th>\n",
       "      <td>5733be284776f41900661180</td>\n",
       "      <td>The Basilica of the Sacred heart at Notre Dame...</td>\n",
       "      <td>Architecturally, the school has a Catholic cha...</td>\n",
       "      <td>279</td>\n",
       "      <td>the Main Building</td>\n",
       "      <td>0</td>\n",
       "      <td>Atop the Main Building's gold dome is a golden...</td>\n",
       "    </tr>\n",
       "    <tr>\n",
       "      <th>3</th>\n",
       "      <td>5733be284776f41900661181</td>\n",
       "      <td>What is the Grotto at Notre Dame?</td>\n",
       "      <td>Architecturally, the school has a Catholic cha...</td>\n",
       "      <td>381</td>\n",
       "      <td>a Marian place of prayer and reflection</td>\n",
       "      <td>0</td>\n",
       "      <td>Immediately behind the basilica is the Grotto,...</td>\n",
       "    </tr>\n",
       "    <tr>\n",
       "      <th>4</th>\n",
       "      <td>5733be284776f4190066117e</td>\n",
       "      <td>What sits on top of the Main Building at Notre...</td>\n",
       "      <td>Architecturally, the school has a Catholic cha...</td>\n",
       "      <td>92</td>\n",
       "      <td>a golden statue of the Virgin Mary</td>\n",
       "      <td>0</td>\n",
       "      <td>Atop the Main Building's gold dome is a golden...</td>\n",
       "    </tr>\n",
       "  </tbody>\n",
       "</table>\n",
       "</div>"
      ],
      "text/plain": [
       "                      index  ...                                        answer_sent\n",
       "0  5733be284776f41900661182  ...  It is a replica of the grotto at Lourdes, Fran...\n",
       "1  5733be284776f4190066117f  ...  Immediately in front of the Main Building and ...\n",
       "2  5733be284776f41900661180  ...  Atop the Main Building's gold dome is a golden...\n",
       "3  5733be284776f41900661181  ...  Immediately behind the basilica is the Grotto,...\n",
       "4  5733be284776f4190066117e  ...  Atop the Main Building's gold dome is a golden...\n",
       "\n",
       "[5 rows x 7 columns]"
      ]
     },
     "execution_count": 5,
     "metadata": {
      "tags": []
     },
     "output_type": "execute_result"
    }
   ],
   "source": [
    "df.head()"
   ]
  },
  {
   "cell_type": "code",
   "execution_count": 6,
   "metadata": {
    "colab": {
     "base_uri": "https://localhost:8080/",
     "height": 34
    },
    "colab_type": "code",
    "id": "XKB2Ssn-0vfG",
    "outputId": "3c9ce0da-20f4-4c46-de9c-8f218e1a11f8"
   },
   "outputs": [
    {
     "data": {
      "text/plain": [
       "216"
      ]
     },
     "execution_count": 6,
     "metadata": {
      "tags": []
     },
     "output_type": "execute_result"
    }
   ],
   "source": [
    "df['answer_sent'].isna().sum()"
   ]
  },
  {
   "cell_type": "code",
   "execution_count": 7,
   "metadata": {
    "colab": {
     "base_uri": "https://localhost:8080/",
     "height": 221
    },
    "colab_type": "code",
    "id": "LupNbxac0vfS",
    "outputId": "439756ac-0421-40cc-a2a6-db35f58c2c8c"
   },
   "outputs": [
    {
     "name": "stdout",
     "output_type": "stream",
     "text": [
      "<class 'pandas.core.frame.DataFrame'>\n",
      "RangeIndex: 87599 entries, 0 to 87598\n",
      "Data columns (total 7 columns):\n",
      "index           87599 non-null object\n",
      "question        87599 non-null object\n",
      "context         87599 non-null object\n",
      "answer_start    87599 non-null int64\n",
      "text            87598 non-null object\n",
      "c_id            87599 non-null int64\n",
      "answer_sent     87383 non-null object\n",
      "dtypes: int64(2), object(5)\n",
      "memory usage: 4.7+ MB\n"
     ]
    }
   ],
   "source": [
    "df.info()"
   ]
  },
  {
   "cell_type": "code",
   "execution_count": 0,
   "metadata": {
    "colab": {},
    "colab_type": "code",
    "id": "8MOP27510vfv"
   },
   "outputs": [],
   "source": [
    "# df['question'] = df['question'].str.lower()\n",
    "# df['answer_sent'] = df['answer_sent'].str.lower()"
   ]
  },
  {
   "cell_type": "code",
   "execution_count": 0,
   "metadata": {
    "colab": {},
    "colab_type": "code",
    "id": "JW8uJHUXsuID"
   },
   "outputs": [],
   "source": [
    "df = df.dropna(how = 'any').reset_index(drop=True)"
   ]
  },
  {
   "cell_type": "code",
   "execution_count": 9,
   "metadata": {
    "colab": {
     "base_uri": "https://localhost:8080/",
     "height": 153
    },
    "colab_type": "code",
    "id": "QMW__boYs0Hb",
    "outputId": "8f560a9d-fb4c-4bef-8b74-bdb679d84ece"
   },
   "outputs": [
    {
     "data": {
      "text/plain": [
       "index           0\n",
       "question        0\n",
       "context         0\n",
       "answer_start    0\n",
       "text            0\n",
       "c_id            0\n",
       "answer_sent     0\n",
       "dtype: int64"
      ]
     },
     "execution_count": 9,
     "metadata": {
      "tags": []
     },
     "output_type": "execute_result"
    }
   ],
   "source": [
    "df.isna().sum()"
   ]
  },
  {
   "cell_type": "code",
   "execution_count": 0,
   "metadata": {
    "colab": {},
    "colab_type": "code",
    "id": "ZHvVW3Kx0vf6"
   },
   "outputs": [],
   "source": [
    "df = df[['question','answer_sent']]"
   ]
  },
  {
   "cell_type": "code",
   "execution_count": 11,
   "metadata": {
    "colab": {
     "base_uri": "https://localhost:8080/",
     "height": 204
    },
    "colab_type": "code",
    "id": "MV9egs7q0vgG",
    "outputId": "b716b4e1-22fc-42c7-cc4d-8997e05a1529"
   },
   "outputs": [
    {
     "data": {
      "text/html": [
       "<div>\n",
       "<style scoped>\n",
       "    .dataframe tbody tr th:only-of-type {\n",
       "        vertical-align: middle;\n",
       "    }\n",
       "\n",
       "    .dataframe tbody tr th {\n",
       "        vertical-align: top;\n",
       "    }\n",
       "\n",
       "    .dataframe thead th {\n",
       "        text-align: right;\n",
       "    }\n",
       "</style>\n",
       "<table border=\"1\" class=\"dataframe\">\n",
       "  <thead>\n",
       "    <tr style=\"text-align: right;\">\n",
       "      <th></th>\n",
       "      <th>question</th>\n",
       "      <th>answer_sent</th>\n",
       "    </tr>\n",
       "  </thead>\n",
       "  <tbody>\n",
       "    <tr>\n",
       "      <th>0</th>\n",
       "      <td>To whom did the Virgin Mary allegedly appear i...</td>\n",
       "      <td>It is a replica of the grotto at Lourdes, Fran...</td>\n",
       "    </tr>\n",
       "    <tr>\n",
       "      <th>1</th>\n",
       "      <td>What is in front of the Notre Dame Main Building?</td>\n",
       "      <td>Immediately in front of the Main Building and ...</td>\n",
       "    </tr>\n",
       "    <tr>\n",
       "      <th>2</th>\n",
       "      <td>The Basilica of the Sacred heart at Notre Dame...</td>\n",
       "      <td>Atop the Main Building's gold dome is a golden...</td>\n",
       "    </tr>\n",
       "    <tr>\n",
       "      <th>3</th>\n",
       "      <td>What is the Grotto at Notre Dame?</td>\n",
       "      <td>Immediately behind the basilica is the Grotto,...</td>\n",
       "    </tr>\n",
       "    <tr>\n",
       "      <th>4</th>\n",
       "      <td>What sits on top of the Main Building at Notre...</td>\n",
       "      <td>Atop the Main Building's gold dome is a golden...</td>\n",
       "    </tr>\n",
       "  </tbody>\n",
       "</table>\n",
       "</div>"
      ],
      "text/plain": [
       "                                            question                                        answer_sent\n",
       "0  To whom did the Virgin Mary allegedly appear i...  It is a replica of the grotto at Lourdes, Fran...\n",
       "1  What is in front of the Notre Dame Main Building?  Immediately in front of the Main Building and ...\n",
       "2  The Basilica of the Sacred heart at Notre Dame...  Atop the Main Building's gold dome is a golden...\n",
       "3                  What is the Grotto at Notre Dame?  Immediately behind the basilica is the Grotto,...\n",
       "4  What sits on top of the Main Building at Notre...  Atop the Main Building's gold dome is a golden..."
      ]
     },
     "execution_count": 11,
     "metadata": {
      "tags": []
     },
     "output_type": "execute_result"
    }
   ],
   "source": [
    "df.head()"
   ]
  },
  {
   "cell_type": "code",
   "execution_count": 12,
   "metadata": {
    "colab": {
     "base_uri": "https://localhost:8080/",
     "height": 68
    },
    "colab_type": "code",
    "id": "T4vhLAo4s6aj",
    "outputId": "947cbf5a-83e3-4fb1-d7f6-27c49dbb3467"
   },
   "outputs": [
    {
     "data": {
      "text/plain": [
       "question       0\n",
       "answer_sent    0\n",
       "dtype: int64"
      ]
     },
     "execution_count": 12,
     "metadata": {
      "tags": []
     },
     "output_type": "execute_result"
    }
   ],
   "source": [
    "df.isna().sum()"
   ]
  },
  {
   "cell_type": "code",
   "execution_count": 13,
   "metadata": {
    "colab": {
     "base_uri": "https://localhost:8080/",
     "height": 136
    },
    "colab_type": "code",
    "id": "fgltmsoYr0Yo",
    "outputId": "a43a7712-10ad-455d-cd70-b70a1b48bdc8"
   },
   "outputs": [
    {
     "name": "stdout",
     "output_type": "stream",
     "text": [
      "<class 'pandas.core.frame.DataFrame'>\n",
      "RangeIndex: 87382 entries, 0 to 87381\n",
      "Data columns (total 2 columns):\n",
      "question       87382 non-null object\n",
      "answer_sent    87382 non-null object\n",
      "dtypes: object(2)\n",
      "memory usage: 1.3+ MB\n"
     ]
    }
   ],
   "source": [
    "df.info()"
   ]
  },
  {
   "cell_type": "code",
   "execution_count": 14,
   "metadata": {
    "colab": {
     "base_uri": "https://localhost:8080/",
     "height": 204
    },
    "colab_type": "code",
    "id": "LwG3-JoQ-arM",
    "outputId": "ba726575-bf88-4b79-b1a1-ecdcdc23dbc0"
   },
   "outputs": [
    {
     "data": {
      "text/html": [
       "<div>\n",
       "<style scoped>\n",
       "    .dataframe tbody tr th:only-of-type {\n",
       "        vertical-align: middle;\n",
       "    }\n",
       "\n",
       "    .dataframe tbody tr th {\n",
       "        vertical-align: top;\n",
       "    }\n",
       "\n",
       "    .dataframe thead th {\n",
       "        text-align: right;\n",
       "    }\n",
       "</style>\n",
       "<table border=\"1\" class=\"dataframe\">\n",
       "  <thead>\n",
       "    <tr style=\"text-align: right;\">\n",
       "      <th></th>\n",
       "      <th>question</th>\n",
       "      <th>answer_sent</th>\n",
       "    </tr>\n",
       "  </thead>\n",
       "  <tbody>\n",
       "    <tr>\n",
       "      <th>87377</th>\n",
       "      <td>In what US state did Kathmandu first establish...</td>\n",
       "      <td>KMC's first international relationship was est...</td>\n",
       "    </tr>\n",
       "    <tr>\n",
       "      <th>87378</th>\n",
       "      <td>What was Yangon previously known as?</td>\n",
       "      <td>This activity has been further enhanced by est...</td>\n",
       "    </tr>\n",
       "    <tr>\n",
       "      <th>87379</th>\n",
       "      <td>With what Belorussian city does Kathmandu have...</td>\n",
       "      <td>This activity has been further enhanced by est...</td>\n",
       "    </tr>\n",
       "    <tr>\n",
       "      <th>87380</th>\n",
       "      <td>In what year did Kathmandu create its initial ...</td>\n",
       "      <td>KMC's first international relationship was est...</td>\n",
       "    </tr>\n",
       "    <tr>\n",
       "      <th>87381</th>\n",
       "      <td>What is KMC an initialism of?</td>\n",
       "      <td>Kathmandu Metropolitan City (KMC), in order to...</td>\n",
       "    </tr>\n",
       "  </tbody>\n",
       "</table>\n",
       "</div>"
      ],
      "text/plain": [
       "                                                question                                        answer_sent\n",
       "87377  In what US state did Kathmandu first establish...  KMC's first international relationship was est...\n",
       "87378               What was Yangon previously known as?  This activity has been further enhanced by est...\n",
       "87379  With what Belorussian city does Kathmandu have...  This activity has been further enhanced by est...\n",
       "87380  In what year did Kathmandu create its initial ...  KMC's first international relationship was est...\n",
       "87381                      What is KMC an initialism of?  Kathmandu Metropolitan City (KMC), in order to..."
      ]
     },
     "execution_count": 14,
     "metadata": {
      "tags": []
     },
     "output_type": "execute_result"
    }
   ],
   "source": [
    "df.tail()"
   ]
  },
  {
   "cell_type": "code",
   "execution_count": 0,
   "metadata": {
    "colab": {},
    "colab_type": "code",
    "id": "2RXRiS2UIbGT"
   },
   "outputs": [],
   "source": [
    "df['answer_sent'] = df['answer_sent'].str.replace(\"\\n\",\"\")"
   ]
  },
  {
   "cell_type": "code",
   "execution_count": 0,
   "metadata": {
    "colab": {},
    "colab_type": "code",
    "id": "zR81cibAi500"
   },
   "outputs": [],
   "source": [
    "X = df['answer_sent']\n",
    "y = df['question']"
   ]
  },
  {
   "cell_type": "code",
   "execution_count": 17,
   "metadata": {
    "colab": {
     "base_uri": "https://localhost:8080/",
     "height": 102
    },
    "colab_type": "code",
    "id": "b7Vw7UEt0I1A",
    "outputId": "5379b96e-a82f-4cc7-a60b-8fedc457e8a9"
   },
   "outputs": [
    {
     "data": {
      "text/plain": [
       "0    It is a replica of the grotto at Lourdes, Fran...\n",
       "1    Immediately in front of the Main Building and ...\n",
       "2    Atop the Main Building's gold dome is a golden...\n",
       "3    Immediately behind the basilica is the Grotto,...\n",
       "Name: answer_sent, dtype: object"
      ]
     },
     "execution_count": 17,
     "metadata": {
      "tags": []
     },
     "output_type": "execute_result"
    }
   ],
   "source": [
    "X[:4]"
   ]
  },
  {
   "cell_type": "code",
   "execution_count": 18,
   "metadata": {
    "colab": {
     "base_uri": "https://localhost:8080/",
     "height": 34
    },
    "colab_type": "code",
    "id": "-BJdCqZK0i6U",
    "outputId": "77bee230-85d7-49c5-f3ea-6f8be715efae"
   },
   "outputs": [
    {
     "data": {
      "text/plain": [
       "(87382,)"
      ]
     },
     "execution_count": 18,
     "metadata": {
      "tags": []
     },
     "output_type": "execute_result"
    }
   ],
   "source": [
    "X.shape"
   ]
  },
  {
   "cell_type": "code",
   "execution_count": 19,
   "metadata": {
    "colab": {
     "base_uri": "https://localhost:8080/",
     "height": 173
    },
    "colab_type": "code",
    "id": "TTgcndIK00cg",
    "outputId": "a805a917-a140-4298-b166-54ba3e47164e"
   },
   "outputs": [
    {
     "data": {
      "text/plain": [
       "array(['It is a replica of the grotto at Lourdes, France where the Virgin Mary reputedly appeared to Saint Bernadette Soubirous in 1858.',\n",
       "       'Immediately in front of the Main Building and facing it, is a copper statue of Christ with arms upraised with the legend \"Venite Ad Me Omnes\".',\n",
       "       \"Atop the Main Building's gold dome is a golden statue of the Virgin Mary.\",\n",
       "       ...,\n",
       "       \"This activity has been further enhanced by establishing formal relationships with 8 other cities: Motsumoto City of Japan, Rochester of the USA, Yangon (formerly Rangoon) of Myanmar, Xi'an of the People's Republic of China, Minsk of Belarus, and Pyongyang of the Democratic Republic of Korea.\",\n",
       "       \"KMC's first international relationship was established in 1975 with the city of Eugene, Oregon, United States.\",\n",
       "       'Kathmandu Metropolitan City (KMC), in order to promote international relations has established an International Relations Secretariat (IRC).'],\n",
       "      dtype=object)"
      ]
     },
     "execution_count": 19,
     "metadata": {
      "tags": []
     },
     "output_type": "execute_result"
    }
   ],
   "source": [
    "X.values"
   ]
  },
  {
   "cell_type": "code",
   "execution_count": 0,
   "metadata": {
    "colab": {},
    "colab_type": "code",
    "id": "bZ00yazAy5Vu"
   },
   "outputs": [],
   "source": [
    "y = y.str.replace(r'\"','')"
   ]
  },
  {
   "cell_type": "code",
   "execution_count": 21,
   "metadata": {
    "colab": {
     "base_uri": "https://localhost:8080/",
     "height": 34
    },
    "colab_type": "code",
    "id": "i8OD5ci0y_Ft",
    "outputId": "f68b387d-cb66-4cc6-ffdd-b47f514ac2ea"
   },
   "outputs": [
    {
     "data": {
      "text/plain": [
       "(87382,)"
      ]
     },
     "execution_count": 21,
     "metadata": {
      "tags": []
     },
     "output_type": "execute_result"
    }
   ],
   "source": [
    "y.shape"
   ]
  },
  {
   "cell_type": "code",
   "execution_count": 22,
   "metadata": {
    "colab": {
     "base_uri": "https://localhost:8080/",
     "height": 34
    },
    "colab_type": "code",
    "id": "8QtBEIYl5sGM",
    "outputId": "00513402-074b-46df-cacf-a894aeff96f4"
   },
   "outputs": [
    {
     "data": {
      "text/plain": [
       "(87382,)"
      ]
     },
     "execution_count": 22,
     "metadata": {
      "tags": []
     },
     "output_type": "execute_result"
    }
   ],
   "source": [
    "X.shape"
   ]
  },
  {
   "cell_type": "code",
   "execution_count": 0,
   "metadata": {
    "colab": {},
    "colab_type": "code",
    "id": "Cuxpbl9PGy5w"
   },
   "outputs": [],
   "source": [
    "!mkdir data"
   ]
  },
  {
   "cell_type": "code",
   "execution_count": 0,
   "metadata": {
    "colab": {},
    "colab_type": "code",
    "id": "K5TtWfBrLVix"
   },
   "outputs": [],
   "source": [
    "X =  X.str.lower()\n",
    "y =  y.str.lower()"
   ]
  },
  {
   "cell_type": "code",
   "execution_count": 0,
   "metadata": {
    "colab": {},
    "colab_type": "code",
    "id": "auSY4Csa5dle"
   },
   "outputs": [],
   "source": [
    "# X.to_csv(r'data/X4.txt', header=None, index=None, sep='\\n')\n",
    "# y.to_csv(r'data/y4.txt', header=None, index=None, sep='\\n')"
   ]
  },
  {
   "cell_type": "code",
   "execution_count": 0,
   "metadata": {
    "colab": {},
    "colab_type": "code",
    "id": "ZgvOnE0FKG40"
   },
   "outputs": [],
   "source": [
    "from sklearn.model_selection import train_test_split\n",
    "\n",
    "X_train, X_valid, y_train, y_valid = train_test_split(X, y, test_size=0.2)"
   ]
  },
  {
   "cell_type": "code",
   "execution_count": 27,
   "metadata": {
    "colab": {
     "base_uri": "https://localhost:8080/",
     "height": 173
    },
    "colab_type": "code",
    "id": "wQ2980j-KRr3",
    "outputId": "62cb2493-4c16-4fec-c495-add08624efba"
   },
   "outputs": [
    {
     "name": "stderr",
     "output_type": "stream",
     "text": [
      "/usr/local/lib/python3.6/dist-packages/ipykernel_launcher.py:1: FutureWarning: The signature of `Series.to_csv` was aligned to that of `DataFrame.to_csv`, and argument 'header' will change its default value from False to True: please pass an explicit value to suppress this warning.\n",
      "  \"\"\"Entry point for launching an IPython kernel.\n",
      "/usr/local/lib/python3.6/dist-packages/ipykernel_launcher.py:2: FutureWarning: The signature of `Series.to_csv` was aligned to that of `DataFrame.to_csv`, and argument 'header' will change its default value from False to True: please pass an explicit value to suppress this warning.\n",
      "  \n",
      "/usr/local/lib/python3.6/dist-packages/ipykernel_launcher.py:3: FutureWarning: The signature of `Series.to_csv` was aligned to that of `DataFrame.to_csv`, and argument 'header' will change its default value from False to True: please pass an explicit value to suppress this warning.\n",
      "  This is separate from the ipykernel package so we can avoid doing imports until\n",
      "/usr/local/lib/python3.6/dist-packages/ipykernel_launcher.py:4: FutureWarning: The signature of `Series.to_csv` was aligned to that of `DataFrame.to_csv`, and argument 'header' will change its default value from False to True: please pass an explicit value to suppress this warning.\n",
      "  after removing the cwd from sys.path.\n"
     ]
    }
   ],
   "source": [
    "X_train.to_csv(r'data/X_train.txt', header=None, index=None, sep='\\n')\n",
    "X_valid.to_csv(r'data/X_valid.txt', header=None, index=None, sep='\\n')\n",
    "y_train.to_csv(r'data/y_train.txt', header=None, index=None, sep='\\n')\n",
    "y_valid.to_csv(r'data/y_valid.txt', header=None, index=None, sep='\\n')"
   ]
  },
  {
   "cell_type": "code",
   "execution_count": 28,
   "metadata": {
    "colab": {
     "base_uri": "https://localhost:8080/",
     "height": 768
    },
    "colab_type": "code",
    "id": "zr04Si2xqnGa",
    "outputId": "e96151e5-7938-46e8-81c7-ff441fd8fe71"
   },
   "outputs": [
    {
     "name": "stdout",
     "output_type": "stream",
     "text": [
      "Cloning into 'OpenNMT-py'...\n",
      "remote: Enumerating objects: 14399, done.\u001b[K\n",
      "remote: Total 14399 (delta 0), reused 0 (delta 0), pack-reused 14399\u001b[K\n",
      "Receiving objects: 100% (14399/14399), 145.86 MiB | 26.70 MiB/s, done.\n",
      "Resolving deltas: 100% (10313/10313), done.\n",
      "Collecting git+https://github.com/pytorch/text.git@master#wheel=torchtext (from -r OpenNMT-py/requirements.txt (line 4))\n",
      "  Cloning https://github.com/pytorch/text.git (to revision master) to /tmp/pip-req-build-6jo8b0ta\n",
      "  Running command git clone -q https://github.com/pytorch/text.git /tmp/pip-req-build-6jo8b0ta\n",
      "Requirement already satisfied: six in /usr/local/lib/python3.6/dist-packages (from -r OpenNMT-py/requirements.txt (line 1)) (1.12.0)\n",
      "Collecting tqdm==4.30.* (from -r OpenNMT-py/requirements.txt (line 2))\n",
      "\u001b[?25l  Downloading https://files.pythonhosted.org/packages/76/4c/103a4d3415dafc1ddfe6a6624333971756e2d3dd8c6dc0f520152855f040/tqdm-4.30.0-py2.py3-none-any.whl (47kB)\n",
      "\u001b[K     |████████████████████████████████| 51kB 4.1MB/s \n",
      "\u001b[?25hRequirement already satisfied: torch>=1.1 in /usr/local/lib/python3.6/dist-packages (from -r OpenNMT-py/requirements.txt (line 3)) (1.1.0)\n",
      "Requirement already satisfied: future in /usr/local/lib/python3.6/dist-packages (from -r OpenNMT-py/requirements.txt (line 5)) (0.16.0)\n",
      "Collecting configargparse (from -r OpenNMT-py/requirements.txt (line 6))\n",
      "  Downloading https://files.pythonhosted.org/packages/55/ea/f0ade52790bcd687127a302b26c1663bf2e0f23210d5281dbfcd1dfcda28/ConfigArgParse-0.14.0.tar.gz\n",
      "Requirement already satisfied: requests in /usr/local/lib/python3.6/dist-packages (from torchtext==0.4.0->-r OpenNMT-py/requirements.txt (line 4)) (2.21.0)\n",
      "Requirement already satisfied: numpy in /usr/local/lib/python3.6/dist-packages (from torchtext==0.4.0->-r OpenNMT-py/requirements.txt (line 4)) (1.16.4)\n",
      "Requirement already satisfied: urllib3<1.25,>=1.21.1 in /usr/local/lib/python3.6/dist-packages (from requests->torchtext==0.4.0->-r OpenNMT-py/requirements.txt (line 4)) (1.24.3)\n",
      "Requirement already satisfied: chardet<3.1.0,>=3.0.2 in /usr/local/lib/python3.6/dist-packages (from requests->torchtext==0.4.0->-r OpenNMT-py/requirements.txt (line 4)) (3.0.4)\n",
      "Requirement already satisfied: certifi>=2017.4.17 in /usr/local/lib/python3.6/dist-packages (from requests->torchtext==0.4.0->-r OpenNMT-py/requirements.txt (line 4)) (2019.6.16)\n",
      "Requirement already satisfied: idna<2.9,>=2.5 in /usr/local/lib/python3.6/dist-packages (from requests->torchtext==0.4.0->-r OpenNMT-py/requirements.txt (line 4)) (2.8)\n",
      "Building wheels for collected packages: configargparse, torchtext\n",
      "  Building wheel for configargparse (setup.py) ... \u001b[?25l\u001b[?25hdone\n",
      "  Created wheel for configargparse: filename=ConfigArgParse-0.14.0-cp36-none-any.whl size=17503 sha256=e231a3b99cfdd9b4a44b4fd0ec55f23a3733360d1803e3bc759ba329314f154c\n",
      "  Stored in directory: /root/.cache/pip/wheels/aa/9c/ce/7e904dddb8c7595ffbe3409d24455bc5005852850e36011bda\n",
      "  Building wheel for torchtext (setup.py) ... \u001b[?25l\u001b[?25hdone\n",
      "  Created wheel for torchtext: filename=torchtext-0.4.0-cp36-none-any.whl size=52735 sha256=89bcec034ddb4d59add62ec65bb64ef3bc319ced0268b5d9f03384ba42aeb776\n",
      "  Stored in directory: /tmp/pip-ephem-wheel-cache-g872px1_/wheels/47/f9/8d/a9e397ec2629a3fd3219b2ebc3ec8b55396fd3cf55963a77a5\n",
      "Successfully built configargparse torchtext\n",
      "Installing collected packages: tqdm, configargparse, torchtext\n",
      "  Found existing installation: tqdm 4.28.1\n",
      "    Uninstalling tqdm-4.28.1:\n",
      "      Successfully uninstalled tqdm-4.28.1\n",
      "  Found existing installation: torchtext 0.3.1\n",
      "    Uninstalling torchtext-0.3.1:\n",
      "      Successfully uninstalled torchtext-0.3.1\n",
      "Successfully installed configargparse-0.14.0 torchtext-0.4.0 tqdm-4.30.0\n"
     ]
    },
    {
     "data": {
      "application/vnd.colab-display-data+json": {
       "pip_warning": {
        "packages": [
         "tqdm"
        ]
       }
      }
     },
     "metadata": {
      "tags": []
     },
     "output_type": "display_data"
    }
   ],
   "source": [
    "!git clone https://github.com/OpenNMT/OpenNMT-py\n",
    "!pip install -r OpenNMT-py/requirements.txt"
   ]
  },
  {
   "cell_type": "code",
   "execution_count": 29,
   "metadata": {
    "colab": {
     "base_uri": "https://localhost:8080/",
     "height": 34
    },
    "colab_type": "code",
    "id": "KgGn8I5UN9Z3",
    "outputId": "089dca12-c07f-4d41-8c0b-6df43a99c591"
   },
   "outputs": [
    {
     "name": "stdout",
     "output_type": "stream",
     "text": [
      "/content/OpenNMT-py\n"
     ]
    }
   ],
   "source": [
    "%cd OpenNMT-py"
   ]
  },
  {
   "cell_type": "code",
   "execution_count": 43,
   "metadata": {
    "colab": {
     "base_uri": "https://localhost:8080/",
     "height": 1000
    },
    "colab_type": "code",
    "id": "Z28IdiIGAZ30",
    "outputId": "686cd020-8675-4b90-fd33-2f22b0596516"
   },
   "outputs": [
    {
     "name": "stdout",
     "output_type": "stream",
     "text": [
      "running install\n",
      "running bdist_egg\n",
      "running egg_info\n",
      "creating OpenNMT_py.egg-info\n",
      "writing OpenNMT_py.egg-info/PKG-INFO\n",
      "writing dependency_links to OpenNMT_py.egg-info/dependency_links.txt\n",
      "writing top-level names to OpenNMT_py.egg-info/top_level.txt\n",
      "writing manifest file 'OpenNMT_py.egg-info/SOURCES.txt'\n",
      "writing manifest file 'OpenNMT_py.egg-info/SOURCES.txt'\n",
      "installing library code to build/bdist.linux-x86_64/egg\n",
      "running install_lib\n",
      "running build_py\n",
      "creating build\n",
      "creating build/lib\n",
      "creating build/lib/onmt\n",
      "copying onmt/model_builder.py -> build/lib/onmt\n",
      "copying onmt/trainer.py -> build/lib/onmt\n",
      "copying onmt/__init__.py -> build/lib/onmt\n",
      "copying onmt/opts.py -> build/lib/onmt\n",
      "copying onmt/train_single.py -> build/lib/onmt\n",
      "creating build/lib/onmt/encoders\n",
      "copying onmt/encoders/transformer.py -> build/lib/onmt/encoders\n",
      "copying onmt/encoders/__init__.py -> build/lib/onmt/encoders\n",
      "copying onmt/encoders/image_encoder.py -> build/lib/onmt/encoders\n",
      "copying onmt/encoders/encoder.py -> build/lib/onmt/encoders\n",
      "copying onmt/encoders/mean_encoder.py -> build/lib/onmt/encoders\n",
      "copying onmt/encoders/audio_encoder.py -> build/lib/onmt/encoders\n",
      "copying onmt/encoders/cnn_encoder.py -> build/lib/onmt/encoders\n",
      "copying onmt/encoders/rnn_encoder.py -> build/lib/onmt/encoders\n",
      "creating build/lib/onmt/modules\n",
      "copying onmt/modules/copy_generator.py -> build/lib/onmt/modules\n",
      "copying onmt/modules/multi_headed_attn.py -> build/lib/onmt/modules\n",
      "copying onmt/modules/average_attn.py -> build/lib/onmt/modules\n",
      "copying onmt/modules/gate.py -> build/lib/onmt/modules\n",
      "copying onmt/modules/util_class.py -> build/lib/onmt/modules\n",
      "copying onmt/modules/__init__.py -> build/lib/onmt/modules\n",
      "copying onmt/modules/position_ffn.py -> build/lib/onmt/modules\n",
      "copying onmt/modules/global_attention.py -> build/lib/onmt/modules\n",
      "copying onmt/modules/embeddings.py -> build/lib/onmt/modules\n",
      "copying onmt/modules/weight_norm.py -> build/lib/onmt/modules\n",
      "copying onmt/modules/structured_attention.py -> build/lib/onmt/modules\n",
      "copying onmt/modules/conv_multi_step_attention.py -> build/lib/onmt/modules\n",
      "copying onmt/modules/sparse_activations.py -> build/lib/onmt/modules\n",
      "copying onmt/modules/sparse_losses.py -> build/lib/onmt/modules\n",
      "creating build/lib/onmt/tests\n",
      "copying onmt/tests/test_copy_generator.py -> build/lib/onmt/tests\n",
      "copying onmt/tests/test_random_sampling.py -> build/lib/onmt/tests\n",
      "copying onmt/tests/utils_for_tests.py -> build/lib/onmt/tests\n",
      "copying onmt/tests/test_simple.py -> build/lib/onmt/tests\n",
      "copying onmt/tests/__init__.py -> build/lib/onmt/tests\n",
      "copying onmt/tests/test_models.py -> build/lib/onmt/tests\n",
      "copying onmt/tests/test_structured_attention.py -> build/lib/onmt/tests\n",
      "copying onmt/tests/test_text_dataset.py -> build/lib/onmt/tests\n",
      "copying onmt/tests/test_beam_search.py -> build/lib/onmt/tests\n",
      "copying onmt/tests/test_image_dataset.py -> build/lib/onmt/tests\n",
      "copying onmt/tests/test_beam.py -> build/lib/onmt/tests\n",
      "copying onmt/tests/test_audio_dataset.py -> build/lib/onmt/tests\n",
      "copying onmt/tests/test_attention.py -> build/lib/onmt/tests\n",
      "copying onmt/tests/test_preprocess.py -> build/lib/onmt/tests\n",
      "copying onmt/tests/test_translation_server.py -> build/lib/onmt/tests\n",
      "copying onmt/tests/test_embeddings.py -> build/lib/onmt/tests\n",
      "creating build/lib/onmt/translate\n",
      "copying onmt/translate/translation_server.py -> build/lib/onmt/translate\n",
      "copying onmt/translate/beam.py -> build/lib/onmt/translate\n",
      "copying onmt/translate/__init__.py -> build/lib/onmt/translate\n",
      "copying onmt/translate/beam_search.py -> build/lib/onmt/translate\n",
      "copying onmt/translate/decode_strategy.py -> build/lib/onmt/translate\n",
      "copying onmt/translate/translator.py -> build/lib/onmt/translate\n",
      "copying onmt/translate/process_zh.py -> build/lib/onmt/translate\n",
      "copying onmt/translate/translation.py -> build/lib/onmt/translate\n",
      "copying onmt/translate/random_sampling.py -> build/lib/onmt/translate\n",
      "copying onmt/translate/penalties.py -> build/lib/onmt/translate\n",
      "creating build/lib/onmt/decoders\n",
      "copying onmt/decoders/decoder.py -> build/lib/onmt/decoders\n",
      "copying onmt/decoders/transformer.py -> build/lib/onmt/decoders\n",
      "copying onmt/decoders/__init__.py -> build/lib/onmt/decoders\n",
      "copying onmt/decoders/cnn_decoder.py -> build/lib/onmt/decoders\n",
      "copying onmt/decoders/ensemble.py -> build/lib/onmt/decoders\n",
      "creating build/lib/onmt/inputters\n",
      "copying onmt/inputters/dataset_base.py -> build/lib/onmt/inputters\n",
      "copying onmt/inputters/audio_dataset.py -> build/lib/onmt/inputters\n",
      "copying onmt/inputters/inputter.py -> build/lib/onmt/inputters\n",
      "copying onmt/inputters/image_dataset.py -> build/lib/onmt/inputters\n",
      "copying onmt/inputters/__init__.py -> build/lib/onmt/inputters\n",
      "copying onmt/inputters/vec_dataset.py -> build/lib/onmt/inputters\n",
      "copying onmt/inputters/text_dataset.py -> build/lib/onmt/inputters\n",
      "copying onmt/inputters/datareader_base.py -> build/lib/onmt/inputters\n",
      "creating build/lib/onmt/models\n",
      "copying onmt/models/stacked_rnn.py -> build/lib/onmt/models\n",
      "copying onmt/models/sru.py -> build/lib/onmt/models\n",
      "copying onmt/models/__init__.py -> build/lib/onmt/models\n",
      "copying onmt/models/model.py -> build/lib/onmt/models\n",
      "copying onmt/models/model_saver.py -> build/lib/onmt/models\n",
      "creating build/lib/onmt/utils\n",
      "copying onmt/utils/misc.py -> build/lib/onmt/utils\n",
      "copying onmt/utils/rnn_factory.py -> build/lib/onmt/utils\n",
      "copying onmt/utils/parse.py -> build/lib/onmt/utils\n",
      "copying onmt/utils/__init__.py -> build/lib/onmt/utils\n",
      "copying onmt/utils/optimizers.py -> build/lib/onmt/utils\n",
      "copying onmt/utils/statistics.py -> build/lib/onmt/utils\n",
      "copying onmt/utils/report_manager.py -> build/lib/onmt/utils\n",
      "copying onmt/utils/cnn_factory.py -> build/lib/onmt/utils\n",
      "copying onmt/utils/distributed.py -> build/lib/onmt/utils\n",
      "copying onmt/utils/loss.py -> build/lib/onmt/utils\n",
      "copying onmt/utils/earlystopping.py -> build/lib/onmt/utils\n",
      "copying onmt/utils/logging.py -> build/lib/onmt/utils\n",
      "creating build/bdist.linux-x86_64\n",
      "creating build/bdist.linux-x86_64/egg\n",
      "creating build/bdist.linux-x86_64/egg/onmt\n",
      "copying build/lib/onmt/model_builder.py -> build/bdist.linux-x86_64/egg/onmt\n",
      "creating build/bdist.linux-x86_64/egg/onmt/models\n",
      "copying build/lib/onmt/models/stacked_rnn.py -> build/bdist.linux-x86_64/egg/onmt/models\n",
      "copying build/lib/onmt/models/sru.py -> build/bdist.linux-x86_64/egg/onmt/models\n",
      "copying build/lib/onmt/models/__init__.py -> build/bdist.linux-x86_64/egg/onmt/models\n",
      "copying build/lib/onmt/models/model.py -> build/bdist.linux-x86_64/egg/onmt/models\n",
      "copying build/lib/onmt/models/model_saver.py -> build/bdist.linux-x86_64/egg/onmt/models\n",
      "copying build/lib/onmt/trainer.py -> build/bdist.linux-x86_64/egg/onmt\n",
      "creating build/bdist.linux-x86_64/egg/onmt/translate\n",
      "copying build/lib/onmt/translate/translation_server.py -> build/bdist.linux-x86_64/egg/onmt/translate\n",
      "copying build/lib/onmt/translate/beam.py -> build/bdist.linux-x86_64/egg/onmt/translate\n",
      "copying build/lib/onmt/translate/__init__.py -> build/bdist.linux-x86_64/egg/onmt/translate\n",
      "copying build/lib/onmt/translate/beam_search.py -> build/bdist.linux-x86_64/egg/onmt/translate\n",
      "copying build/lib/onmt/translate/decode_strategy.py -> build/bdist.linux-x86_64/egg/onmt/translate\n",
      "copying build/lib/onmt/translate/translator.py -> build/bdist.linux-x86_64/egg/onmt/translate\n",
      "copying build/lib/onmt/translate/process_zh.py -> build/bdist.linux-x86_64/egg/onmt/translate\n",
      "copying build/lib/onmt/translate/translation.py -> build/bdist.linux-x86_64/egg/onmt/translate\n",
      "copying build/lib/onmt/translate/random_sampling.py -> build/bdist.linux-x86_64/egg/onmt/translate\n",
      "copying build/lib/onmt/translate/penalties.py -> build/bdist.linux-x86_64/egg/onmt/translate\n",
      "creating build/bdist.linux-x86_64/egg/onmt/inputters\n",
      "copying build/lib/onmt/inputters/dataset_base.py -> build/bdist.linux-x86_64/egg/onmt/inputters\n",
      "copying build/lib/onmt/inputters/audio_dataset.py -> build/bdist.linux-x86_64/egg/onmt/inputters\n",
      "copying build/lib/onmt/inputters/inputter.py -> build/bdist.linux-x86_64/egg/onmt/inputters\n",
      "copying build/lib/onmt/inputters/image_dataset.py -> build/bdist.linux-x86_64/egg/onmt/inputters\n",
      "copying build/lib/onmt/inputters/__init__.py -> build/bdist.linux-x86_64/egg/onmt/inputters\n",
      "copying build/lib/onmt/inputters/vec_dataset.py -> build/bdist.linux-x86_64/egg/onmt/inputters\n",
      "copying build/lib/onmt/inputters/text_dataset.py -> build/bdist.linux-x86_64/egg/onmt/inputters\n",
      "copying build/lib/onmt/inputters/datareader_base.py -> build/bdist.linux-x86_64/egg/onmt/inputters\n",
      "copying build/lib/onmt/__init__.py -> build/bdist.linux-x86_64/egg/onmt\n",
      "copying build/lib/onmt/opts.py -> build/bdist.linux-x86_64/egg/onmt\n",
      "creating build/bdist.linux-x86_64/egg/onmt/utils\n",
      "copying build/lib/onmt/utils/misc.py -> build/bdist.linux-x86_64/egg/onmt/utils\n",
      "copying build/lib/onmt/utils/rnn_factory.py -> build/bdist.linux-x86_64/egg/onmt/utils\n",
      "copying build/lib/onmt/utils/parse.py -> build/bdist.linux-x86_64/egg/onmt/utils\n",
      "copying build/lib/onmt/utils/__init__.py -> build/bdist.linux-x86_64/egg/onmt/utils\n",
      "copying build/lib/onmt/utils/optimizers.py -> build/bdist.linux-x86_64/egg/onmt/utils\n",
      "copying build/lib/onmt/utils/statistics.py -> build/bdist.linux-x86_64/egg/onmt/utils\n",
      "copying build/lib/onmt/utils/report_manager.py -> build/bdist.linux-x86_64/egg/onmt/utils\n",
      "copying build/lib/onmt/utils/cnn_factory.py -> build/bdist.linux-x86_64/egg/onmt/utils\n",
      "copying build/lib/onmt/utils/distributed.py -> build/bdist.linux-x86_64/egg/onmt/utils\n",
      "copying build/lib/onmt/utils/loss.py -> build/bdist.linux-x86_64/egg/onmt/utils\n",
      "copying build/lib/onmt/utils/earlystopping.py -> build/bdist.linux-x86_64/egg/onmt/utils\n",
      "copying build/lib/onmt/utils/logging.py -> build/bdist.linux-x86_64/egg/onmt/utils\n",
      "creating build/bdist.linux-x86_64/egg/onmt/tests\n",
      "copying build/lib/onmt/tests/test_copy_generator.py -> build/bdist.linux-x86_64/egg/onmt/tests\n",
      "copying build/lib/onmt/tests/test_random_sampling.py -> build/bdist.linux-x86_64/egg/onmt/tests\n",
      "copying build/lib/onmt/tests/utils_for_tests.py -> build/bdist.linux-x86_64/egg/onmt/tests\n",
      "copying build/lib/onmt/tests/test_simple.py -> build/bdist.linux-x86_64/egg/onmt/tests\n",
      "copying build/lib/onmt/tests/__init__.py -> build/bdist.linux-x86_64/egg/onmt/tests\n",
      "copying build/lib/onmt/tests/test_models.py -> build/bdist.linux-x86_64/egg/onmt/tests\n",
      "copying build/lib/onmt/tests/test_structured_attention.py -> build/bdist.linux-x86_64/egg/onmt/tests\n",
      "copying build/lib/onmt/tests/test_text_dataset.py -> build/bdist.linux-x86_64/egg/onmt/tests\n",
      "copying build/lib/onmt/tests/test_beam_search.py -> build/bdist.linux-x86_64/egg/onmt/tests\n",
      "copying build/lib/onmt/tests/test_image_dataset.py -> build/bdist.linux-x86_64/egg/onmt/tests\n",
      "copying build/lib/onmt/tests/test_beam.py -> build/bdist.linux-x86_64/egg/onmt/tests\n",
      "copying build/lib/onmt/tests/test_audio_dataset.py -> build/bdist.linux-x86_64/egg/onmt/tests\n",
      "copying build/lib/onmt/tests/test_attention.py -> build/bdist.linux-x86_64/egg/onmt/tests\n",
      "copying build/lib/onmt/tests/test_preprocess.py -> build/bdist.linux-x86_64/egg/onmt/tests\n",
      "copying build/lib/onmt/tests/test_translation_server.py -> build/bdist.linux-x86_64/egg/onmt/tests\n",
      "copying build/lib/onmt/tests/test_embeddings.py -> build/bdist.linux-x86_64/egg/onmt/tests\n",
      "copying build/lib/onmt/train_single.py -> build/bdist.linux-x86_64/egg/onmt\n",
      "creating build/bdist.linux-x86_64/egg/onmt/decoders\n",
      "copying build/lib/onmt/decoders/decoder.py -> build/bdist.linux-x86_64/egg/onmt/decoders\n",
      "copying build/lib/onmt/decoders/transformer.py -> build/bdist.linux-x86_64/egg/onmt/decoders\n",
      "copying build/lib/onmt/decoders/__init__.py -> build/bdist.linux-x86_64/egg/onmt/decoders\n",
      "copying build/lib/onmt/decoders/cnn_decoder.py -> build/bdist.linux-x86_64/egg/onmt/decoders\n",
      "copying build/lib/onmt/decoders/ensemble.py -> build/bdist.linux-x86_64/egg/onmt/decoders\n",
      "creating build/bdist.linux-x86_64/egg/onmt/encoders\n",
      "copying build/lib/onmt/encoders/transformer.py -> build/bdist.linux-x86_64/egg/onmt/encoders\n",
      "copying build/lib/onmt/encoders/__init__.py -> build/bdist.linux-x86_64/egg/onmt/encoders\n",
      "copying build/lib/onmt/encoders/image_encoder.py -> build/bdist.linux-x86_64/egg/onmt/encoders\n",
      "copying build/lib/onmt/encoders/encoder.py -> build/bdist.linux-x86_64/egg/onmt/encoders\n",
      "copying build/lib/onmt/encoders/mean_encoder.py -> build/bdist.linux-x86_64/egg/onmt/encoders\n",
      "copying build/lib/onmt/encoders/audio_encoder.py -> build/bdist.linux-x86_64/egg/onmt/encoders\n",
      "copying build/lib/onmt/encoders/cnn_encoder.py -> build/bdist.linux-x86_64/egg/onmt/encoders\n",
      "copying build/lib/onmt/encoders/rnn_encoder.py -> build/bdist.linux-x86_64/egg/onmt/encoders\n",
      "creating build/bdist.linux-x86_64/egg/onmt/modules\n",
      "copying build/lib/onmt/modules/copy_generator.py -> build/bdist.linux-x86_64/egg/onmt/modules\n",
      "copying build/lib/onmt/modules/multi_headed_attn.py -> build/bdist.linux-x86_64/egg/onmt/modules\n",
      "copying build/lib/onmt/modules/average_attn.py -> build/bdist.linux-x86_64/egg/onmt/modules\n",
      "copying build/lib/onmt/modules/gate.py -> build/bdist.linux-x86_64/egg/onmt/modules\n",
      "copying build/lib/onmt/modules/util_class.py -> build/bdist.linux-x86_64/egg/onmt/modules\n",
      "copying build/lib/onmt/modules/__init__.py -> build/bdist.linux-x86_64/egg/onmt/modules\n",
      "copying build/lib/onmt/modules/position_ffn.py -> build/bdist.linux-x86_64/egg/onmt/modules\n",
      "copying build/lib/onmt/modules/global_attention.py -> build/bdist.linux-x86_64/egg/onmt/modules\n",
      "copying build/lib/onmt/modules/embeddings.py -> build/bdist.linux-x86_64/egg/onmt/modules\n",
      "copying build/lib/onmt/modules/weight_norm.py -> build/bdist.linux-x86_64/egg/onmt/modules\n",
      "copying build/lib/onmt/modules/structured_attention.py -> build/bdist.linux-x86_64/egg/onmt/modules\n",
      "copying build/lib/onmt/modules/conv_multi_step_attention.py -> build/bdist.linux-x86_64/egg/onmt/modules\n",
      "copying build/lib/onmt/modules/sparse_activations.py -> build/bdist.linux-x86_64/egg/onmt/modules\n",
      "copying build/lib/onmt/modules/sparse_losses.py -> build/bdist.linux-x86_64/egg/onmt/modules\n",
      "byte-compiling build/bdist.linux-x86_64/egg/onmt/model_builder.py to model_builder.cpython-36.pyc\n",
      "byte-compiling build/bdist.linux-x86_64/egg/onmt/models/stacked_rnn.py to stacked_rnn.cpython-36.pyc\n",
      "byte-compiling build/bdist.linux-x86_64/egg/onmt/models/sru.py to sru.cpython-36.pyc\n",
      "byte-compiling build/bdist.linux-x86_64/egg/onmt/models/__init__.py to __init__.cpython-36.pyc\n",
      "byte-compiling build/bdist.linux-x86_64/egg/onmt/models/model.py to model.cpython-36.pyc\n",
      "byte-compiling build/bdist.linux-x86_64/egg/onmt/models/model_saver.py to model_saver.cpython-36.pyc\n",
      "byte-compiling build/bdist.linux-x86_64/egg/onmt/trainer.py to trainer.cpython-36.pyc\n",
      "byte-compiling build/bdist.linux-x86_64/egg/onmt/translate/translation_server.py to translation_server.cpython-36.pyc\n",
      "byte-compiling build/bdist.linux-x86_64/egg/onmt/translate/beam.py to beam.cpython-36.pyc\n",
      "byte-compiling build/bdist.linux-x86_64/egg/onmt/translate/__init__.py to __init__.cpython-36.pyc\n",
      "byte-compiling build/bdist.linux-x86_64/egg/onmt/translate/beam_search.py to beam_search.cpython-36.pyc\n",
      "byte-compiling build/bdist.linux-x86_64/egg/onmt/translate/decode_strategy.py to decode_strategy.cpython-36.pyc\n",
      "byte-compiling build/bdist.linux-x86_64/egg/onmt/translate/translator.py to translator.cpython-36.pyc\n",
      "byte-compiling build/bdist.linux-x86_64/egg/onmt/translate/process_zh.py to process_zh.cpython-36.pyc\n",
      "byte-compiling build/bdist.linux-x86_64/egg/onmt/translate/translation.py to translation.cpython-36.pyc\n",
      "byte-compiling build/bdist.linux-x86_64/egg/onmt/translate/random_sampling.py to random_sampling.cpython-36.pyc\n",
      "byte-compiling build/bdist.linux-x86_64/egg/onmt/translate/penalties.py to penalties.cpython-36.pyc\n",
      "byte-compiling build/bdist.linux-x86_64/egg/onmt/inputters/dataset_base.py to dataset_base.cpython-36.pyc\n",
      "byte-compiling build/bdist.linux-x86_64/egg/onmt/inputters/audio_dataset.py to audio_dataset.cpython-36.pyc\n",
      "byte-compiling build/bdist.linux-x86_64/egg/onmt/inputters/inputter.py to inputter.cpython-36.pyc\n",
      "byte-compiling build/bdist.linux-x86_64/egg/onmt/inputters/image_dataset.py to image_dataset.cpython-36.pyc\n",
      "byte-compiling build/bdist.linux-x86_64/egg/onmt/inputters/__init__.py to __init__.cpython-36.pyc\n",
      "byte-compiling build/bdist.linux-x86_64/egg/onmt/inputters/vec_dataset.py to vec_dataset.cpython-36.pyc\n",
      "byte-compiling build/bdist.linux-x86_64/egg/onmt/inputters/text_dataset.py to text_dataset.cpython-36.pyc\n",
      "byte-compiling build/bdist.linux-x86_64/egg/onmt/inputters/datareader_base.py to datareader_base.cpython-36.pyc\n",
      "byte-compiling build/bdist.linux-x86_64/egg/onmt/__init__.py to __init__.cpython-36.pyc\n",
      "byte-compiling build/bdist.linux-x86_64/egg/onmt/opts.py to opts.cpython-36.pyc\n",
      "byte-compiling build/bdist.linux-x86_64/egg/onmt/utils/misc.py to misc.cpython-36.pyc\n",
      "byte-compiling build/bdist.linux-x86_64/egg/onmt/utils/rnn_factory.py to rnn_factory.cpython-36.pyc\n",
      "byte-compiling build/bdist.linux-x86_64/egg/onmt/utils/parse.py to parse.cpython-36.pyc\n",
      "byte-compiling build/bdist.linux-x86_64/egg/onmt/utils/__init__.py to __init__.cpython-36.pyc\n",
      "byte-compiling build/bdist.linux-x86_64/egg/onmt/utils/optimizers.py to optimizers.cpython-36.pyc\n",
      "byte-compiling build/bdist.linux-x86_64/egg/onmt/utils/statistics.py to statistics.cpython-36.pyc\n",
      "byte-compiling build/bdist.linux-x86_64/egg/onmt/utils/report_manager.py to report_manager.cpython-36.pyc\n",
      "byte-compiling build/bdist.linux-x86_64/egg/onmt/utils/cnn_factory.py to cnn_factory.cpython-36.pyc\n",
      "byte-compiling build/bdist.linux-x86_64/egg/onmt/utils/distributed.py to distributed.cpython-36.pyc\n",
      "byte-compiling build/bdist.linux-x86_64/egg/onmt/utils/loss.py to loss.cpython-36.pyc\n",
      "byte-compiling build/bdist.linux-x86_64/egg/onmt/utils/earlystopping.py to earlystopping.cpython-36.pyc\n",
      "byte-compiling build/bdist.linux-x86_64/egg/onmt/utils/logging.py to logging.cpython-36.pyc\n",
      "byte-compiling build/bdist.linux-x86_64/egg/onmt/tests/test_copy_generator.py to test_copy_generator.cpython-36.pyc\n",
      "byte-compiling build/bdist.linux-x86_64/egg/onmt/tests/test_random_sampling.py to test_random_sampling.cpython-36.pyc\n",
      "byte-compiling build/bdist.linux-x86_64/egg/onmt/tests/utils_for_tests.py to utils_for_tests.cpython-36.pyc\n",
      "byte-compiling build/bdist.linux-x86_64/egg/onmt/tests/test_simple.py to test_simple.cpython-36.pyc\n",
      "byte-compiling build/bdist.linux-x86_64/egg/onmt/tests/__init__.py to __init__.cpython-36.pyc\n",
      "byte-compiling build/bdist.linux-x86_64/egg/onmt/tests/test_models.py to test_models.cpython-36.pyc\n",
      "byte-compiling build/bdist.linux-x86_64/egg/onmt/tests/test_structured_attention.py to test_structured_attention.cpython-36.pyc\n",
      "byte-compiling build/bdist.linux-x86_64/egg/onmt/tests/test_text_dataset.py to test_text_dataset.cpython-36.pyc\n",
      "byte-compiling build/bdist.linux-x86_64/egg/onmt/tests/test_beam_search.py to test_beam_search.cpython-36.pyc\n",
      "byte-compiling build/bdist.linux-x86_64/egg/onmt/tests/test_image_dataset.py to test_image_dataset.cpython-36.pyc\n",
      "byte-compiling build/bdist.linux-x86_64/egg/onmt/tests/test_beam.py to test_beam.cpython-36.pyc\n",
      "byte-compiling build/bdist.linux-x86_64/egg/onmt/tests/test_audio_dataset.py to test_audio_dataset.cpython-36.pyc\n",
      "byte-compiling build/bdist.linux-x86_64/egg/onmt/tests/test_attention.py to test_attention.cpython-36.pyc\n",
      "byte-compiling build/bdist.linux-x86_64/egg/onmt/tests/test_preprocess.py to test_preprocess.cpython-36.pyc\n",
      "byte-compiling build/bdist.linux-x86_64/egg/onmt/tests/test_translation_server.py to test_translation_server.cpython-36.pyc\n",
      "byte-compiling build/bdist.linux-x86_64/egg/onmt/tests/test_embeddings.py to test_embeddings.cpython-36.pyc\n",
      "byte-compiling build/bdist.linux-x86_64/egg/onmt/train_single.py to train_single.cpython-36.pyc\n",
      "byte-compiling build/bdist.linux-x86_64/egg/onmt/decoders/decoder.py to decoder.cpython-36.pyc\n",
      "byte-compiling build/bdist.linux-x86_64/egg/onmt/decoders/transformer.py to transformer.cpython-36.pyc\n",
      "byte-compiling build/bdist.linux-x86_64/egg/onmt/decoders/__init__.py to __init__.cpython-36.pyc\n",
      "byte-compiling build/bdist.linux-x86_64/egg/onmt/decoders/cnn_decoder.py to cnn_decoder.cpython-36.pyc\n",
      "byte-compiling build/bdist.linux-x86_64/egg/onmt/decoders/ensemble.py to ensemble.cpython-36.pyc\n",
      "byte-compiling build/bdist.linux-x86_64/egg/onmt/encoders/transformer.py to transformer.cpython-36.pyc\n",
      "byte-compiling build/bdist.linux-x86_64/egg/onmt/encoders/__init__.py to __init__.cpython-36.pyc\n",
      "byte-compiling build/bdist.linux-x86_64/egg/onmt/encoders/image_encoder.py to image_encoder.cpython-36.pyc\n",
      "byte-compiling build/bdist.linux-x86_64/egg/onmt/encoders/encoder.py to encoder.cpython-36.pyc\n",
      "byte-compiling build/bdist.linux-x86_64/egg/onmt/encoders/mean_encoder.py to mean_encoder.cpython-36.pyc\n",
      "byte-compiling build/bdist.linux-x86_64/egg/onmt/encoders/audio_encoder.py to audio_encoder.cpython-36.pyc\n",
      "byte-compiling build/bdist.linux-x86_64/egg/onmt/encoders/cnn_encoder.py to cnn_encoder.cpython-36.pyc\n",
      "byte-compiling build/bdist.linux-x86_64/egg/onmt/encoders/rnn_encoder.py to rnn_encoder.cpython-36.pyc\n",
      "byte-compiling build/bdist.linux-x86_64/egg/onmt/modules/copy_generator.py to copy_generator.cpython-36.pyc\n",
      "byte-compiling build/bdist.linux-x86_64/egg/onmt/modules/multi_headed_attn.py to multi_headed_attn.cpython-36.pyc\n",
      "byte-compiling build/bdist.linux-x86_64/egg/onmt/modules/average_attn.py to average_attn.cpython-36.pyc\n",
      "byte-compiling build/bdist.linux-x86_64/egg/onmt/modules/gate.py to gate.cpython-36.pyc\n",
      "byte-compiling build/bdist.linux-x86_64/egg/onmt/modules/util_class.py to util_class.cpython-36.pyc\n",
      "byte-compiling build/bdist.linux-x86_64/egg/onmt/modules/__init__.py to __init__.cpython-36.pyc\n",
      "byte-compiling build/bdist.linux-x86_64/egg/onmt/modules/position_ffn.py to position_ffn.cpython-36.pyc\n",
      "byte-compiling build/bdist.linux-x86_64/egg/onmt/modules/global_attention.py to global_attention.cpython-36.pyc\n",
      "byte-compiling build/bdist.linux-x86_64/egg/onmt/modules/embeddings.py to embeddings.cpython-36.pyc\n",
      "byte-compiling build/bdist.linux-x86_64/egg/onmt/modules/weight_norm.py to weight_norm.cpython-36.pyc\n",
      "byte-compiling build/bdist.linux-x86_64/egg/onmt/modules/structured_attention.py to structured_attention.cpython-36.pyc\n",
      "byte-compiling build/bdist.linux-x86_64/egg/onmt/modules/conv_multi_step_attention.py to conv_multi_step_attention.cpython-36.pyc\n",
      "byte-compiling build/bdist.linux-x86_64/egg/onmt/modules/sparse_activations.py to sparse_activations.cpython-36.pyc\n",
      "byte-compiling build/bdist.linux-x86_64/egg/onmt/modules/sparse_losses.py to sparse_losses.cpython-36.pyc\n",
      "creating build/bdist.linux-x86_64/egg/EGG-INFO\n",
      "copying OpenNMT_py.egg-info/PKG-INFO -> build/bdist.linux-x86_64/egg/EGG-INFO\n",
      "copying OpenNMT_py.egg-info/SOURCES.txt -> build/bdist.linux-x86_64/egg/EGG-INFO\n",
      "copying OpenNMT_py.egg-info/dependency_links.txt -> build/bdist.linux-x86_64/egg/EGG-INFO\n",
      "copying OpenNMT_py.egg-info/top_level.txt -> build/bdist.linux-x86_64/egg/EGG-INFO\n",
      "zip_safe flag not set; analyzing archive contents...\n",
      "onmt.tests.__pycache__.test_audio_dataset.cpython-36: module references __file__\n",
      "onmt.tests.__pycache__.test_image_dataset.cpython-36: module references __file__\n",
      "onmt.tests.__pycache__.test_translation_server.cpython-36: module references __file__\n",
      "onmt.translate.__pycache__.translator.cpython-36: module references __file__\n",
      "creating dist\n",
      "creating 'dist/OpenNMT_py-0.9.1-py3.6.egg' and adding 'build/bdist.linux-x86_64/egg' to it\n",
      "removing 'build/bdist.linux-x86_64/egg' (and everything under it)\n",
      "Processing OpenNMT_py-0.9.1-py3.6.egg\n",
      "creating /usr/local/lib/python3.6/dist-packages/OpenNMT_py-0.9.1-py3.6.egg\n",
      "Extracting OpenNMT_py-0.9.1-py3.6.egg to /usr/local/lib/python3.6/dist-packages\n",
      "Adding OpenNMT-py 0.9.1 to easy-install.pth file\n",
      "\n",
      "Installed /usr/local/lib/python3.6/dist-packages/OpenNMT_py-0.9.1-py3.6.egg\n",
      "Processing dependencies for OpenNMT-py==0.9.1\n",
      "Finished processing dependencies for OpenNMT-py==0.9.1\n"
     ]
    }
   ],
   "source": [
    "!python setup.py install"
   ]
  },
  {
   "cell_type": "code",
   "execution_count": 0,
   "metadata": {
    "colab": {},
    "colab_type": "code",
    "id": "Wyjgk9NhOSjR"
   },
   "outputs": [],
   "source": [
    "!rm -r data"
   ]
  },
  {
   "cell_type": "code",
   "execution_count": 0,
   "metadata": {
    "colab": {},
    "colab_type": "code",
    "id": "32GVwl7HOZEw"
   },
   "outputs": [],
   "source": [
    "# !cp -r /content/data /content/OpenNMT-py/data"
   ]
  },
  {
   "cell_type": "code",
   "execution_count": 0,
   "metadata": {
    "colab": {
     "base_uri": "https://localhost:8080/",
     "height": 51
    },
    "colab_type": "code",
    "id": "h41RMh6QaSZC",
    "outputId": "37d48bb4-af45-40ec-89a5-d24e1f5f9bb5"
   },
   "outputs": [
    {
     "name": "stdout",
     "output_type": "stream",
     "text": [
      "mkdir: cannot create directory ‘/content/drive/My’: Operation not supported\n",
      "mkdir: cannot create directory ‘Drive/learnogether/open_nmt_preprocessed’: No such file or directory\n"
     ]
    }
   ],
   "source": [
    "# !mkdir /content/drive/My Drive/learnogether/open_nmt_preprocessed"
   ]
  },
  {
   "cell_type": "code",
   "execution_count": 32,
   "metadata": {
    "colab": {
     "base_uri": "https://localhost:8080/",
     "height": 34
    },
    "colab_type": "code",
    "id": "iSaisdIVWxZG",
    "outputId": "af156b87-7702-4fe1-a786-c78fbba26d94"
   },
   "outputs": [
    {
     "name": "stdout",
     "output_type": "stream",
     "text": [
      "/content/OpenNMT-py\n"
     ]
    }
   ],
   "source": [
    "!pwd"
   ]
  },
  {
   "cell_type": "code",
   "execution_count": 0,
   "metadata": {
    "colab": {},
    "colab_type": "code",
    "id": "LuFy6DmkWrAJ"
   },
   "outputs": [],
   "source": [
    "!ls /content/OpenNMT-py/glove_dir"
   ]
  },
  {
   "cell_type": "code",
   "execution_count": 33,
   "metadata": {
    "colab": {
     "base_uri": "https://localhost:8080/",
     "height": 391
    },
    "colab_type": "code",
    "id": "CaYAjV2NMnJj",
    "outputId": "94c65148-a4b5-4de3-8f8a-4f48479e09eb"
   },
   "outputs": [
    {
     "name": "stdout",
     "output_type": "stream",
     "text": [
      "--2019-08-02 09:01:57--  http://nlp.stanford.edu/data/glove.42B.300d.zip\n",
      "Resolving nlp.stanford.edu (nlp.stanford.edu)... 171.64.67.140\n",
      "Connecting to nlp.stanford.edu (nlp.stanford.edu)|171.64.67.140|:80... connected.\n",
      "HTTP request sent, awaiting response... 302 Found\n",
      "Location: https://nlp.stanford.edu/data/glove.42B.300d.zip [following]\n",
      "--2019-08-02 09:01:57--  https://nlp.stanford.edu/data/glove.42B.300d.zip\n",
      "Connecting to nlp.stanford.edu (nlp.stanford.edu)|171.64.67.140|:443... connected.\n",
      "HTTP request sent, awaiting response... 301 Moved Permanently\n",
      "Location: http://downloads.cs.stanford.edu/nlp/data/glove.42B.300d.zip [following]\n",
      "--2019-08-02 09:01:58--  http://downloads.cs.stanford.edu/nlp/data/glove.42B.300d.zip\n",
      "Resolving downloads.cs.stanford.edu (downloads.cs.stanford.edu)... 171.64.64.22\n",
      "Connecting to downloads.cs.stanford.edu (downloads.cs.stanford.edu)|171.64.64.22|:80... connected.\n",
      "HTTP request sent, awaiting response... 200 OK\n",
      "Length: 1877800501 (1.7G) [application/zip]\n",
      "Saving to: ‘glove.42B.300d.zip’\n",
      "\n",
      "glove.42B.300d.zip  100%[===================>]   1.75G  18.9MB/s    in 1m 41s  \n",
      "\n",
      "2019-08-02 09:03:39 (17.8 MB/s) - ‘glove.42B.300d.zip’ saved [1877800501/1877800501]\n",
      "\n",
      "Archive:  glove.42B.300d.zip\n",
      "  inflating: glove_dir/glove.42B.300d.txt  \n"
     ]
    }
   ],
   "source": [
    "!mkdir \"glove_dir\"\n",
    "!wget http://nlp.stanford.edu/data/glove.42B.300d.zip\n",
    "!unzip glove.42B.300d.zip -d \"glove_dir\""
   ]
  },
  {
   "cell_type": "code",
   "execution_count": 37,
   "metadata": {
    "colab": {
     "base_uri": "https://localhost:8080/",
     "height": 34
    },
    "colab_type": "code",
    "id": "DFlud4LoljMh",
    "outputId": "ba3887b1-2e4e-4bdc-ec0c-ad77e27ddd37"
   },
   "outputs": [
    {
     "name": "stdout",
     "output_type": "stream",
     "text": [
      "/content/OpenNMT-py\n"
     ]
    }
   ],
   "source": [
    "!pwd"
   ]
  },
  {
   "cell_type": "code",
   "execution_count": 38,
   "metadata": {
    "colab": {
     "base_uri": "https://localhost:8080/",
     "height": 255
    },
    "colab_type": "code",
    "id": "vItpz-4Go7vs",
    "outputId": "265ac718-0984-4992-f64b-2409a960a563"
   },
   "outputs": [
    {
     "name": "stdout",
     "output_type": "stream",
     "text": [
      "[2019-08-02 09:09:58,551 INFO] Extracting features...\n",
      "[2019-08-02 09:09:58,554 INFO]  * number of source features: 0.\n",
      "[2019-08-02 09:09:58,554 INFO]  * number of target features: 0.\n",
      "[2019-08-02 09:09:58,555 INFO] Building `Fields` object...\n",
      "[2019-08-02 09:09:58,555 INFO] Building & saving training data...\n",
      "[2019-08-02 09:09:58,555 INFO] Reading source and target files: data/X_train.txt data/y_train.txt.\n",
      "[2019-08-02 09:09:58,632 INFO] Building shard 0.\n",
      "[2019-08-02 09:10:01,865 INFO]  * saving 0th train data shard to data/data.train.0.pt.\n",
      "[2019-08-02 09:10:04,816 INFO]  * tgt vocab size: 48555.\n",
      "[2019-08-02 09:10:05,030 INFO]  * src vocab size: 50002.\n",
      "[2019-08-02 09:10:05,509 INFO] Building & saving validation data...\n",
      "[2019-08-02 09:10:05,509 INFO] Reading source and target files: data/X_valid.txt data/y_valid.txt.\n",
      "[2019-08-02 09:10:05,529 INFO] Building shard 0.\n",
      "[2019-08-02 09:10:05,870 INFO]  * saving 0th valid data shard to data/data.valid.0.pt.\n"
     ]
    }
   ],
   "source": [
    "!python preprocess.py \\\n",
    "-train_src data/X_train.txt \\\n",
    "-train_tgt data/y_train.txt \\\n",
    "-valid_src data/X_valid.txt \\\n",
    "-valid_tgt data/y_valid.txt \\\n",
    "-save_data data/data"
   ]
  },
  {
   "cell_type": "code",
   "execution_count": 0,
   "metadata": {
    "colab": {},
    "colab_type": "code",
    "id": "uZ2I4Ab1Zcv2"
   },
   "outputs": [],
   "source": [
    "!cp -r \"/content/OpenNMT-py/data\" \"/content/drive/My Drive/learnogether/open_nmt_preprocessed\""
   ]
  },
  {
   "cell_type": "code",
   "execution_count": 45,
   "metadata": {
    "colab": {
     "base_uri": "https://localhost:8080/",
     "height": 255
    },
    "colab_type": "code",
    "id": "YuKrQWauM4tL",
    "outputId": "1013c859-5e42-4763-ec8e-ba903d6fa085"
   },
   "outputs": [
    {
     "name": "stdout",
     "output_type": "stream",
     "text": [
      "[2019-08-02 11:06:43,742 INFO] From: data/data.vocab.pt\n",
      "[2019-08-02 11:06:43,743 INFO] \t* source vocab: 50002 words\n",
      "[2019-08-02 11:06:43,743 INFO] \t* target vocab: 48555 words\n",
      "[2019-08-02 11:06:43,756 INFO] Reading encoder and decoder embeddings from glove_dir/glove.42B.300d.txt\n",
      "[2019-08-02 11:07:21,909 INFO] \tFound 1917494 total vectors in file\n",
      "[2019-08-02 11:07:21,909 INFO] After filtering to vectors in vocab:\n",
      "[2019-08-02 11:07:21,929 INFO] \t* enc: 27623 match, 22379 missing, (55.24%)\n",
      "[2019-08-02 11:07:21,942 INFO] \t* dec: 27956 match, 20599 missing, (57.58%)\n",
      "[2019-08-02 11:07:21,942 INFO] \n",
      "Saving embedding as:\n",
      "\t* enc: data/embeddings.enc.pt\n",
      "\t* dec: data/embeddings.dec.pt\n",
      "[2019-08-02 11:07:23,402 INFO] \n",
      "Done.\n"
     ]
    }
   ],
   "source": [
    "!./tools/embeddings_to_torch.py -emb_file_both \"glove_dir/glove.42B.300d.txt\" \\\n",
    "-dict_file \"data/data.vocab.pt\" \\\n",
    "-output_file \"data/embeddings\""
   ]
  },
  {
   "cell_type": "code",
   "execution_count": 0,
   "metadata": {
    "colab": {
     "base_uri": "https://localhost:8080/",
     "height": 879
    },
    "colab_type": "code",
    "id": "JrvR0_e4qgre",
    "outputId": "7c4b7962-f3f4-4ed8-aeb5-be1ce09870d6"
   },
   "outputs": [
    {
     "name": "stdout",
     "output_type": "stream",
     "text": [
      "[2019-08-02 11:15:41,277 INFO]  * src vocab size = 50002\n",
      "[2019-08-02 11:15:41,277 INFO]  * tgt vocab size = 48555\n",
      "[2019-08-02 11:15:41,277 INFO] Building model...\n",
      "[2019-08-02 11:15:41,808 INFO] NMTModel(\n",
      "  (encoder): RNNEncoder(\n",
      "    (embeddings): Embeddings(\n",
      "      (make_embedding): Sequential(\n",
      "        (emb_luts): Elementwise(\n",
      "          (0): Embedding(50002, 100, padding_idx=1)\n",
      "        )\n",
      "      )\n",
      "    )\n",
      "    (rnn): LSTM(100, 100, num_layers=2, dropout=0.3, bidirectional=True)\n",
      "  )\n",
      "  (decoder): InputFeedRNNDecoder(\n",
      "    (embeddings): Embeddings(\n",
      "      (make_embedding): Sequential(\n",
      "        (emb_luts): Elementwise(\n",
      "          (0): Embedding(48555, 100, padding_idx=1)\n",
      "        )\n",
      "      )\n",
      "    )\n",
      "    (dropout): Dropout(p=0.3)\n",
      "    (rnn): StackedLSTM(\n",
      "      (dropout): Dropout(p=0.3)\n",
      "      (layers): ModuleList(\n",
      "        (0): LSTMCell(300, 200)\n",
      "        (1): LSTMCell(200, 200)\n",
      "      )\n",
      "    )\n",
      "    (attn): GlobalAttention(\n",
      "      (linear_in): Linear(in_features=200, out_features=200, bias=False)\n",
      "      (linear_out): Linear(in_features=400, out_features=200, bias=False)\n",
      "    )\n",
      "  )\n",
      "  (generator): Sequential(\n",
      "    (0): Linear(in_features=200, out_features=48555, bias=True)\n",
      "    (1): Cast()\n",
      "    (2): LogSoftmax()\n",
      "  )\n",
      ")\n",
      "[2019-08-02 11:15:41,809 INFO] encoder: 5403400\n",
      "[2019-08-02 11:15:41,809 INFO] decoder: 15458255\n",
      "[2019-08-02 11:15:41,809 INFO] * number of parameters: 20861655\n",
      "[2019-08-02 11:15:41,810 INFO] Starting training on CPU, could be very slow\n",
      "[2019-08-02 11:15:41,810 INFO] Start training loop and validate every 10000 steps...\n",
      "[2019-08-02 11:15:41,811 INFO] Loading dataset from data/data.train.0.pt\n",
      "[2019-08-02 11:15:42,930 INFO] number of examples: 65758\n",
      "[2019-08-02 11:17:22,488 INFO] Step 50/100000; acc:   7.37; ppl: 31106.91; xent: 10.35; lr: 1.00000; 818/362 tok/s;    101 sec\n"
     ]
    }
   ],
   "source": [
    "!python train.py -save_model data/model \\\n",
    "-encoder_type brnn \\\n",
    "-decoder_type rnn \\\n",
    "-batch_size 64 \\\n",
    "-layers 2 \\\n",
    "-rnn_size 200 \\\n",
    "-word_vec_size 100 \\\n",
    "-pre_word_vecs_enc \"data/embeddings.enc.pt\" \\\n",
    "-pre_word_vecs_dec \"data/embeddings.dec.pt\" \\\n",
    "        -data data/data"
   ]
  },
  {
   "cell_type": "code",
   "execution_count": 0,
   "metadata": {
    "colab": {},
    "colab_type": "code",
    "id": "fcq-Nv0cChPN"
   },
   "outputs": [],
   "source": []
  }
 ],
 "metadata": {
  "accelerator": "GPU",
  "colab": {
   "name": "preprocess and train_colab.ipynb",
   "provenance": [],
   "version": "0.3.2"
  },
  "kernelspec": {
   "display_name": "Python 3",
   "language": "python",
   "name": "python3"
  },
  "language_info": {
   "codemirror_mode": {
    "name": "ipython",
    "version": 3
   },
   "file_extension": ".py",
   "mimetype": "text/x-python",
   "name": "python",
   "nbconvert_exporter": "python",
   "pygments_lexer": "ipython3",
   "version": "3.6.8"
  }
 },
 "nbformat": 4,
 "nbformat_minor": 1
}
